


import pandas as pd
import numpy as np
from astropy import units as u
from astropy import constants as c
from astropy.coordinates import SkyCoord
import matplotlib.pyplot as plt
import dynesty


col_names = [
    "name",
    "ra_hours",
    "ra_minutes",
    "ra_seconds",
    "dec_degrees",
    "dec_arcminutes",
    "dec_arcseconds",
    "E(B-V)",
    "dist_mod",
    "dist_mod_up",
    "dist_mod_low",
    "vrad",
    "vrad_up",
    "vrad_low",
    "Vmag",
    "Vmag_up",
    "Vmag_low",
    "PA",
    "PA_up",
    "PA_low",
    "e",
    "e_up",
    "e_low",
    "muVo",
    "muVo_up",
    "muVo_low",
    "rh",
    "rh_up",
    "rh_low",
    "sigma_s",
    "sigma_s_up",
    "sigma_s_low",
    "vrot_s",
    "vrot_s_up",
    "vrot_s_low",
    "M_HI",
    "sigma_g",
    "sigma_g_up",
    "sigma_g_low",
    "vrot_g",
    "vrot_g_up",
    "vrot_g_low",
    "Fe_H",
    "Fe_H_up",
    "Fe_H_low",
    "F",
    "refs"
]

nearby_galaxies = pd.read_csv("NearbyGalaxies.dat", skiprows=37, sep=" ", index_col=False, names=col_names)
n_og = len(nearby_galaxies)
nearby_galaxies = nearby_galaxies[(nearby_galaxies.Vmag != 999) * (nearby_galaxies.dist_mod != 999)]
print(f"Cut out {n_og-len(nearby_galaxies)} galaxies for poor Vmag or poor Distance Modulus")

vmags, dist_mod = nearby_galaxies.Vmag, nearby_galaxies.dist_mod
abs_mag = (vmags - dist_mod).to_list()

# add the milky way
abs_mag.append(-20.6) # from https://lweb.cfa.harvard.edu/~dfabricant/huchra/seminar/galaxies/

# and add M31
abs_mag.append(-21.5) # from https://arxiv.org/abs/astro-ph/0511045

print(abs_mag)


# reformat the data
nbins = 12
counts, bins = np.histogram(
    abs_mag, 
    bins=nbins,
    range=(-22, 0)
)

mids = 0.5*(bins[1:] + bins[:-1])
probs = counts / np.sum(counts)

mean = np.sum(probs * mids)
sd = np.log10(np.sqrt(np.sum(probs * (mids - mean)**2)))

# plot the N vs. Luminosity
fig, ax = plt.subplots()
ax.errorbar(mids, np.log10(counts), xerr=sd, capsize=5, color='k', linestyle="none", marker="o")

# some other labels
fig.gca().invert_xaxis()

ax.set_ylabel("log(N)")
ax.set_xlabel("Absolute V-Band Magnitude")


# fit with a schechter function

x = 10**(-0.4*mids)
y = np.log10(counts)
yerr = np.log10(np.sqrt(counts)) # so +/- 1 count per bin
xerr = sd

print(xerr)

def schechter(L_V, phi_star, log_L_V_star, alpha):

    L_V_star = 10**log_L_V_star
    f1 = (L_V / L_V_star)**alpha
    f2 = np.exp(-L_V/L_V_star)
    phi = phi_star * f1 * f2
    return phi

# log-likelihood
def loglike(theta):
    phi_star, log_L_V_star, alpha = theta

    # select a random value for x within it's uncertainty
    xin = np.random.normal(x,xerr)
    
    model = schechter(xin, phi_star, log_L_V_star, alpha)
    inv_sigma2 = 1.0 / (yerr**2 + model**2)
    res = -0.5 * (np.sum((y-model)**2 * inv_sigma2 - np.log(inv_sigma2)))
    return res

# prior transform
def prior_transform(utheta):
    u_phi_star, u_L_V_star, u_alpha = utheta
    phi_star = (u_phi_star * 50) + 20
    L_V_star = (u_L_V_star * 1) + 7
    alpha = (u_alpha*0.2)-0.1
    
    return phi_star, L_V_star, alpha

dsampler = dynesty.DynamicNestedSampler(loglike, prior_transform, ndim=3,
                                         bound='multi', sample='rwalk')
dsampler.run_nested()
dres = dsampler.results


from dynesty import plotting as dyplot

labels = [r'$\phi^*$', r'$\log(L_V^*)$', r'$\alpha$']
fig, axes = dyplot.traceplot(dsampler.results, labels=labels,
                             fig=plt.subplots(3, 2, figsize=(16, 12)))
fig.tight_layout()


fig, axes = dyplot.cornerplot(dres,show_titles=True, 
                              title_kwargs={'y': 1.04}, labels=labels,
                              fig=plt.subplots(3, 3, figsize=(15, 15)))


n = 1000
res = dres["samples"][-n:]
xfit = 10**(-0.4*np.linspace(-30, 5, 1000))

# plot the N vs. Luminosity
fig, ax = plt.subplots()
ax.errorbar(-2.5*np.log10(x), y, xerr=sd, yerr=yerr, capsize=5, color='r', linestyle="none", marker="o")

for vals in res:
    #print(vals)
    
    model = schechter(xfit, *vals)
    ax.plot(-2.5*np.log10(xfit), np.log10(model), color='k', alpha=0.1)

# some other labels
fig.gca().invert_xaxis()

ax.set_ylabel("log(N)")
ax.set_xlabel("Absolute V-Band Magnitude")

ax.set_ylim(-1, 2)
ax.set_xlim(5, -30)


# Extract sampling results.
samples = dres.samples  # samples
weights = dres.importance_weights()

# Compute 10%-90% quantiles.
quantiles = [dynesty.utils.quantile(samps, [0.1, 0.9], weights=weights)
             for samps in samples.T]

# Compute weighted mean and covariance.
mean, cov = dynesty.utils.mean_and_cov(samples, weights)


for m, q, lab in zip(mean, quantiles, labels):
    print(r"${lab} = {m:.3f}^{{ +{q0:.2f} }}_{{ -{q1:.2f} }}$".format(lab=lab, m=m, q0=q[1]-m, q1=m-q[0]))


# convert luminosity to magnitudes
log_L_V = mean[1]
M_V = -2.5*log_L_V
M_V_up = M_V - M_V/log_L_V * quantiles[1][0]
M_V_lo = M_V - M_V/log_L_V * quantiles[1][1]

M_V, M_V_up, M_V_lo





lambda_eff = 7980*u.AA # https://www.astronomy.ohio-state.edu/martini.10/usefuldata.html
f0_I = 112.6e-11 * u.erg * u.cm**-2 * u.s**-1 * u.AA**-1 # https://www.astronomy.ohio-state.edu/martini.10/usefuldata.html # 

def convert_sigma(sigma_mag, lambda_eff=lambda_eff, f0=f0_I):
    val_cgs = 5.35e11 * f0_I * lambda_eff * 10**(-0.4*sigma_mag) * (1*u.pc**2).to(u.cm**2) / u.pc**2
    return val_cgs / c.L_sun.cgs

convert_sigma(15)





r_e = 269.3
mu_e = 23.37
I_e = 10**(-0.4*mu_e)
n = 6
mu_sky = 21.9

def convert_sigma_back(val, lambda_eff=lambda_eff, f0=f0_I):
    val = (val * c.L_sun.cgs) * (1*u.cm**2).to(u.pc**2) / u.cm**2
    val = -2.5*np.log10(val/(5.35e11 * f0 * lambda_eff))
    return val

def sersic_linear_space(r, n=n, r_e=r_e):
    """Returns I / I_e"""
    b_n = 2*n - 1/3
    f = np.exp( -b_n * ((r/r_e)**(1/n) - 1) )
    return f 

def sersic(r, n=n, r_e=r_e, mu_e=mu_e):
    """Taken from http://burro.case.edu/Academics/Astr323/Lectures/GalaxyPopulations.pdf pg. 17"""
    b_n = 2*n - 1/3
    mu = mu_e + 2.5*b_n/np.log(10) * ((r/r_e)**(1/n) - 1)
    return mu

def add_mags(m1, m2):
    return -2.5*np.log10(10**(-0.4*m1) + 10**(-0.4*m2))

def mu_tot_(r, mu_sky=mu_sky, n=n, mu_e=mu_e, r_e=r_e, f=0):
    b_n = 2*n - 1/3
    Isky_Ie = 10**(-0.4*(mu_sky-mu_e))
    return mu_e - 2.5*np.log10(np.exp(-b_n * ((r/r_e)**(1/n) - 1)) + (1+f)*Isky_Ie)

def mu_tot(r, n=n, r_e=r_e, mu_e=mu_e, mu_sky=mu_sky, f=0):
    I_Ie = sersic_linear_space(r, n=n, r_e=r_e)
    return mu_e-2.5*np.log10(I_Ie + f*10**(-0.4*(mu_sky-mu_e)))


r = np.logspace(-2, 4, int(1e5)) # arcsec

mu = sersic(r)
sky_up = mu_tot(r, f=0.005)
sky_lo = mu_tot(r, f=-0.005)


fig, ax = plt.subplots()
ax.plot(r, mu, 'k-', label=f"Sersic (n={n})")

ax.plot(r, sky_up, color='cornflowerblue', label=r"$f = +0.005$")
ax.plot(r, sky_lo, color='orange', label=r"$f = -0.005$")


ax.set_xscale("log")
ax.set_ylabel(r"$\mu$")
ax.set_xlabel(r'log r (")')

ax.plot([r_e], [mu_e], 'rX', markersize=10, label="Half-light")

ax.legend()

ax.invert_yaxis()


def f(r, r_e=r_e, n=n):
    return -2.5*np.log10(sersic_linear_space(r))

si.quad(f, 0, np.inf)



