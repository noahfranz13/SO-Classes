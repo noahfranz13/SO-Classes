{
 "cells": [
  {
   "cell_type": "code",
   "execution_count": 67,
   "id": "f11b553f-c18f-4743-82ae-3fcf9bd82b5a",
   "metadata": {},
   "outputs": [],
   "source": [
    "import numpy as np\n",
    "from astropy import units as u\n",
    "from astropy import constants as c"
   ]
  },
  {
   "cell_type": "markdown",
   "id": "a2d0ac8d-a944-4905-8e34-b6f1a438bc62",
   "metadata": {},
   "source": [
    "# 1a"
   ]
  },
  {
   "cell_type": "code",
   "execution_count": 68,
   "id": "a49d0c26-a6bb-40fd-8736-aa65d56b8c18",
   "metadata": {},
   "outputs": [
    {
     "data": {
      "text/latex": [
       "$97264.452 \\; \\mathrm{\\frac{km}{s}}$"
      ],
      "text/plain": [
       "<Quantity 97264.45172005 km / s>"
      ]
     },
     "execution_count": 68,
     "metadata": {},
     "output_type": "execute_result"
    }
   ],
   "source": [
    "M_pc = 0.123*c.M_sun\n",
    "R_pc = 0.143*c.R_sun\n",
    "d_pc = 1.301*u.pc\n",
    "chi_e = 0.95\n",
    "\n",
    "u_ej = np.sqrt( (2/chi_e) * ( c.c**2*(1-chi_e)  - (3/5)*c.G*M_pc/R_pc) )\n",
    "u_ej.to(u.km/u.s)"
   ]
  },
  {
   "cell_type": "markdown",
   "id": "10b55e2d-ffdf-4e15-a4db-cdf851e5510e",
   "metadata": {},
   "source": [
    "# 1b"
   ]
  },
  {
   "cell_type": "code",
   "execution_count": 69,
   "id": "8573686a-670a-4560-b384-215d2bf46d72",
   "metadata": {
    "tags": []
   },
   "outputs": [
    {
     "data": {
      "text/latex": [
       "$0.93037942 \\; \\mathrm{pc}$"
      ],
      "text/plain": [
       "<Quantity 0.93037942 pc>"
      ]
     },
     "execution_count": 69,
     "metadata": {},
     "output_type": "execute_result"
    }
   ],
   "source": [
    "4.1*u.pc * (0.95*0.123/10)**(1/3)"
   ]
  },
  {
   "cell_type": "code",
   "execution_count": 70,
   "id": "3cb7fe0f-3d23-4a33-b169-f8efb1f99997",
   "metadata": {},
   "outputs": [
    {
     "data": {
      "text/latex": [
       "$9.0052777 \\; \\mathrm{yr}$"
      ],
      "text/plain": [
       "<Quantity 9.00527767 yr>"
      ]
     },
     "execution_count": 70,
     "metadata": {},
     "output_type": "execute_result"
    }
   ],
   "source": [
    "E = (0.5 * chi_e * M_pc * u_ej**2).to(u.erg)\n",
    "t_sh = (1000*u.yr * (d_pc / (5.3*u.pc))**2.5 * (E/(1e51*u.erg))**-0.5)\n",
    "t_sh"
   ]
  },
  {
   "cell_type": "code",
   "execution_count": 98,
   "id": "d05977da-1e94-4bad-8b0b-443a5576fce5",
   "metadata": {
    "tags": []
   },
   "outputs": [
    {
     "data": {
      "text/latex": [
       "$13.078855 \\; \\mathrm{yr}$"
      ],
      "text/plain": [
       "<Quantity 13.0788552 yr>"
      ]
     },
     "execution_count": 98,
     "metadata": {},
     "output_type": "execute_result"
    }
   ],
   "source": [
    "(d_pc/u_ej).to(u.yr)"
   ]
  },
  {
   "cell_type": "markdown",
   "id": "e601573f-523c-48f6-9355-13dd8842d83a",
   "metadata": {},
   "source": [
    "# 1c"
   ]
  },
  {
   "cell_type": "code",
   "execution_count": 71,
   "id": "c2344209-e4ae-4435-9e9e-d38846f4934d",
   "metadata": {},
   "outputs": [
    {
     "data": {
      "text/latex": [
       "$57243.162 \\; \\mathrm{\\frac{km}{s}}$"
      ],
      "text/plain": [
       "<Quantity 57243.16169618 km / s>"
      ]
     },
     "execution_count": 71,
     "metadata": {},
     "output_type": "execute_result"
    }
   ],
   "source": [
    "u_sh = 2100 * u.km/u.s * (E/(1e51*u.erg))**0.2 * (t_sh/(1_000*u.yr))**-0.6\n",
    "u_sh"
   ]
  },
  {
   "cell_type": "markdown",
   "id": "4f10b5c8-790e-4428-8dc3-48f44e8d5a98",
   "metadata": {},
   "source": [
    "# 1d"
   ]
  },
  {
   "cell_type": "code",
   "execution_count": 72,
   "id": "dcb5fd11-386c-426d-952d-4cd74de093f8",
   "metadata": {},
   "outputs": [
    {
     "data": {
      "text/latex": [
       "$9540.5276 \\; \\mathrm{\\frac{km}{s}}$"
      ],
      "text/plain": [
       "<Quantity 9540.52763565 km / s>"
      ]
     },
     "execution_count": 72,
     "metadata": {},
     "output_type": "execute_result"
    }
   ],
   "source": [
    "gamma = 5/3\n",
    "T1 = 8000*u.K\n",
    "n_H = 1*u.cm**-3\n",
    "m_H = c.m_p + c.m_e\n",
    "rho1 = n_H*m_H\n",
    "\n",
    "gamma_factor = 2*gamma/(gamma-1)\n",
    "\n",
    "aterm = 1 + gamma_factor\n",
    "bterm = gamma_factor * (u_sh + c.k_B*T1/(m_H * u_sh)).cgs.value\n",
    "cterm = -(u_sh**2 + gamma_factor * c.k_B*T1/m_H).cgs.value\n",
    "\n",
    "u2 = ((-bterm + np.sqrt(bterm**2 - 4*aterm*cterm)) / (2*aterm) * u.cm/u.s).to(u.km/u.s)\n",
    "u2"
   ]
  },
  {
   "cell_type": "code",
   "execution_count": 73,
   "id": "ebeb9c6e-e218-4042-8fe0-7df575917b1c",
   "metadata": {},
   "outputs": [
    {
     "data": {
      "text/latex": [
       "$4.5698319 \\times 10^{-5} \\; \\mathrm{\\frac{dyn}{cm^{2}}}$"
      ],
      "text/plain": [
       "<Quantity 4.56983194e-05 dyn / cm2>"
      ]
     },
     "execution_count": 73,
     "metadata": {},
     "output_type": "execute_result"
    }
   ],
   "source": [
    "P2 = rho1 * (u_sh**2 + c.k_B*T1/m_H - u_sh*u2) #\n",
    "P2.to(u.dyne/u.cm**2)"
   ]
  },
  {
   "cell_type": "code",
   "execution_count": 74,
   "id": "e385bf03-58c9-41be-9472-dbd878b2d286",
   "metadata": {},
   "outputs": [
    {
     "data": {
      "text/latex": [
       "$5.5165267 \\times 10^{10} \\; \\mathrm{K}$"
      ],
      "text/plain": [
       "<Quantity 5.51652673e+10 K>"
      ]
     },
     "execution_count": 74,
     "metadata": {},
     "output_type": "execute_result"
    }
   ],
   "source": [
    "T2 = m_H/c.k_B * (u_sh*u2 + c.k_B*T1*u2/(m_H*u_sh) - u2**2)\n",
    "T2.to(u.K)"
   ]
  },
  {
   "cell_type": "markdown",
   "id": "f73358b8-4613-493d-b4ab-3a565b2c0abb",
   "metadata": {},
   "source": [
    "# 1e"
   ]
  },
  {
   "cell_type": "code",
   "execution_count": 75,
   "id": "880fd48b-2da6-4cf1-8765-6b7d82f00217",
   "metadata": {
    "tags": []
   },
   "outputs": [
    {
     "data": {
      "text/latex": [
       "$6.9355338 \\times 10^{31} \\; \\mathrm{erg}$"
      ],
      "text/plain": [
       "<Quantity 6.93553377e+31 erg>"
      ]
     },
     "execution_count": 75,
     "metadata": {},
     "output_type": "execute_result"
    }
   ],
   "source": [
    "E_th_ej = E * c.R_earth**2 / (4*d_pc**2)\n",
    "E_th_ej.to(u.erg)"
   ]
  },
  {
   "cell_type": "code",
   "execution_count": 76,
   "id": "1eef050f-8337-4ed0-8586-27f04073f33b",
   "metadata": {
    "tags": []
   },
   "outputs": [
    {
     "data": {
      "text/latex": [
       "$4.5515229 \\times 10^{30} \\; \\mathrm{erg}$"
      ],
      "text/plain": [
       "<Quantity 4.55152291e+30 erg>"
      ]
     },
     "execution_count": 76,
     "metadata": {},
     "output_type": "execute_result"
    }
   ],
   "source": [
    "M_atm = 5.15e21 * u.g\n",
    "T_earth = 200*u.K\n",
    "m_N2 = 2*(7*c.m_p + 7*c.m_n)\n",
    "\n",
    "E_th_earth = (3/2) * M_atm/m_N2 * c.k_B * T_earth\n",
    "\n",
    "E_th_earth.cgs"
   ]
  },
  {
   "cell_type": "markdown",
   "id": "d941f74f-8137-468c-b579-55b6be03dc30",
   "metadata": {},
   "source": [
    "# 2b"
   ]
  },
  {
   "cell_type": "code",
   "execution_count": 87,
   "id": "728ecde7-0a86-4cf1-af3a-a6360596c579",
   "metadata": {},
   "outputs": [
    {
     "data": {
      "text/latex": [
       "$5.729578 \\times 10^{-15} \\; \\mathrm{}$"
      ],
      "text/plain": [
       "<Quantity 5.72957795e-15>"
      ]
     },
     "execution_count": 87,
     "metadata": {},
     "output_type": "execute_result"
    }
   ],
   "source": [
    "V0 = 6e-27 * u.cm**3\n",
    "a_max = 0.5*u.um\n",
    "beta = 3.5\n",
    "\n",
    "A0 = 3*V0 / (4*np.pi) * (4-beta)/a_max**3\n",
    "A0.cgs"
   ]
  },
  {
   "cell_type": "markdown",
   "id": "e8c8efad-c8b8-4971-a9f3-9727dd3c9234",
   "metadata": {},
   "source": [
    "# 2d"
   ]
  },
  {
   "cell_type": "code",
   "execution_count": 96,
   "id": "dee002a9-e9f1-4468-978d-b7ffa99910d0",
   "metadata": {
    "tags": []
   },
   "outputs": [
    {
     "name": "stdout",
     "output_type": "stream",
     "text": [
      "0.5 Myr\n",
      "0.32 Myr\n"
     ]
    }
   ],
   "source": [
    "k = 1*u.um * u.Myr**-1 * u.cm**3\n",
    "nH = 1 * u.cm**-3\n",
    "V0 = 6e-27 * u.cm**3\n",
    "a_max = 0.5*u.um\n",
    "beta = 3.5\n",
    "\n",
    "A0 = (1-beta)*(4-beta)*V0 / (4*np.pi*a_max**3)\n",
    "\n",
    "def t(Vt, V0=V0, A0=A0, beta=beta, k=k, nH=nH, a_max=a_max):\n",
    "    \n",
    "    f1 = 1/(k*nH)\n",
    "    f2 = a_max \n",
    "    f3_inner = 3*(4-beta)*Vt*a_max**(1-beta) / (4*np.pi*A0)\n",
    "    f3 = f3_inner**(1/(4-beta))\n",
    "    return f1*(f2-f3)\n",
    "\n",
    "# for V(t) = 0\n",
    "print(t(0*u.cm**3).to(u.Myr))\n",
    "\n",
    "# for V(t) = V0/2\n",
    "print(t(V0/2).to(u.Myr))"
   ]
  },
  {
   "cell_type": "markdown",
   "id": "d69467d3-0519-4808-bcbc-b10780021501",
   "metadata": {},
   "source": [
    "# 3a"
   ]
  },
  {
   "cell_type": "code",
   "execution_count": 86,
   "id": "f8f15a61-ce7f-4d9f-8c13-c22986435d33",
   "metadata": {
    "tags": []
   },
   "outputs": [
    {
     "data": {
      "text/latex": [
       "$10.207244 \\; \\mathrm{AU}$"
      ],
      "text/plain": [
       "<Quantity 10.20724443 AU>"
      ]
     },
     "execution_count": 86,
     "metadata": {},
     "output_type": "execute_result"
    }
   ],
   "source": [
    "def r_sub(grain_type, L_star=2e5*c.L_sun, a=0.1*u.um, Q_em=1):\n",
    "    \n",
    "    if grain_type.lower() == \"silicon\":\n",
    "        Q_abs = 0.18*(a/(0.1*u.um))**0.6\n",
    "        Tg = 1200*u.K\n",
    "    elif grain_type.lower() == \"graphite\":\n",
    "        Q_abs = 0.8*(a/(0.1*u.um))**0.85\n",
    "        Tg = 2000*u.K\n",
    "    else:\n",
    "        raise ValueError()\n",
    "    \n",
    "    return np.sqrt((Q_abs * L_star)/(16*np.pi*Q_em*c.sigma_sb*Tg**4))\n",
    "    \n",
    "\n",
    "r_sub(\"silicon\").to(u.AU)"
   ]
  },
  {
   "cell_type": "markdown",
   "id": "8debf01b-e6d3-471f-95fc-506941f99d1f",
   "metadata": {},
   "source": [
    "# 3b"
   ]
  },
  {
   "cell_type": "code",
   "execution_count": 80,
   "id": "d623d639-8efe-4535-b258-6207ad08a9de",
   "metadata": {
    "tags": []
   },
   "outputs": [
    {
     "data": {
      "text/latex": [
       "$83587.465 \\; \\mathrm{AU}$"
      ],
      "text/plain": [
       "<Quantity 83587.46476028 AU>"
      ]
     },
     "execution_count": 80,
     "metadata": {},
     "output_type": "execute_result"
    }
   ],
   "source": [
    "(5.5*u.pc * (2000/40)**(-2/3)).to(u.AU)"
   ]
  },
  {
   "cell_type": "code",
   "execution_count": null,
   "id": "59cf59a6-187d-4cf0-96eb-87934b4fad61",
   "metadata": {},
   "outputs": [],
   "source": []
  }
 ],
 "metadata": {
  "kernelspec": {
   "display_name": "Python 3 (ipykernel)",
   "language": "python",
   "name": "python3"
  },
  "language_info": {
   "codemirror_mode": {
    "name": "ipython",
    "version": 3
   },
   "file_extension": ".py",
   "mimetype": "text/x-python",
   "name": "python",
   "nbconvert_exporter": "python",
   "pygments_lexer": "ipython3",
   "version": "3.11.4"
  }
 },
 "nbformat": 4,
 "nbformat_minor": 5
}
