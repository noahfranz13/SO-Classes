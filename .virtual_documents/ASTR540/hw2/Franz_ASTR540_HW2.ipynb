


import pandas as pd
import numpy as np
from astropy import units as u
from astropy import constants as c
from astropy.coordinates import SkyCoord
import matplotlib.pyplot as plt
import dynesty


col_names = [
    "name",
    "ra_hours",
    "ra_minutes",
    "ra_seconds",
    "dec_degrees",
    "dec_arcminutes",
    "dec_arcseconds",
    "E(B-V)",
    "dist_mod",
    "dist_mod_up",
    "dist_mod_low",
    "vrad",
    "vrad_up",
    "vrad_low",
    "Vmag",
    "Vmag_up",
    "Vmag_low",
    "PA",
    "PA_up",
    "PA_low",
    "e",
    "e_up",
    "e_low",
    "muVo",
    "muVo_up",
    "muVo_low",
    "rh",
    "rh_up",
    "rh_low",
    "sigma_s",
    "sigma_s_up",
    "sigma_s_low",
    "vrot_s",
    "vrot_s_up",
    "vrot_s_low",
    "M_HI",
    "sigma_g",
    "sigma_g_up",
    "sigma_g_low",
    "vrot_g",
    "vrot_g_up",
    "vrot_g_low",
    "Fe_H",
    "Fe_H_up",
    "Fe_H_low",
    "F",
    "refs"
]

nearby_galaxies = pd.read_csv("NearbyGalaxies.dat", skiprows=37, sep=" ", index_col=False, names=col_names)
n_og = len(nearby_galaxies)
nearby_galaxies = nearby_galaxies[(nearby_galaxies.Vmag != 999) * (nearby_galaxies.dist_mod != 999)]
print(f"Cut out {n_og-len(nearby_galaxies)} galaxies for poor Vmag or poor Distance Modulus")

vmags, dist_mod = nearby_galaxies.Vmag, nearby_galaxies.dist_mod
abs_mag = (vmags - dist_mod).to_list()

# add the milky way
abs_mag.append(-20.6) # from https://lweb.cfa.harvard.edu/~dfabricant/huchra/seminar/galaxies/

# and add M31
abs_mag.append(-21.5) # from https://arxiv.org/abs/astro-ph/0511045

print(abs_mag)


# reformat the data
nbins = 10
counts, bins = np.histogram(
    abs_mag, 
    bins=nbins
)

mids = 0.5*(bins[1:] + bins[:-1])
probs = counts / np.sum(counts)

mean = np.sum(probs * mids)  
sd = np.log10(np.sqrt(np.sum(probs * (mids - mean)**2)))

# plot the N vs. Luminosity
fig, ax = plt.subplots()
ax.errorbar(mids, np.log10(counts), xerr=sd, capsize=5, color='k', linestyle="none", marker="o")

# some other labels
fig.gca().invert_xaxis()

ax.set_ylabel("log(N)")
ax.set_xlabel("Absolute V-Band Magnitude")


# fit with a schechter function

x = 10**(-0.4*mids)
y = np.log10(counts)
yerr = 1 # so +/- 1 count per bin
xerr = sd

def schechter(L_V, phi_star, log_L_V_star, alpha):

    L_V_star = 10**log_L_V_star
    f1 = (L_V / L_V_star)**alpha
    f2 = np.exp(-L_V/L_V_star)
    phi = phi_star * f1 * f2
    return phi

# log-likelihood
def loglike(theta):
    phi_star, log_L_V_star, alpha = theta

    # select a random value for x within it's uncertainty
    xin = np.random.normal(x,xerr)
    #print(xin)
    
    model = schechter(xin, phi_star, log_L_V_star, alpha)
    inv_sigma2 = 1.0 / (err**2 + model**2)
    res = -0.5 * (np.sum((y-model)**2 * inv_sigma2 - np.log(inv_sigma2)))
    return res

# prior transform
def prior_transform(utheta):
    u_phi_star, u_L_V_star, u_alpha = utheta
    phi_star = (u_phi_star * 50) + 30
    L_V_star = (u_L_V_star * 1) + 7
    alpha = (u_alpha*0.05)
    
    return phi_star, L_V_star, alpha

dsampler = dynesty.DynamicNestedSampler(loglike, prior_transform, ndim=3,
                                        bound='multi', sample='rwalk')
dsampler.run_nested()
dres = dsampler.results


from dynesty import plotting as dyplot

labels = [r'$\phi^*$', r'$\log(L_V^*)$', r'$\alpha$']
fig, axes = dyplot.traceplot(dsampler.results, labels=labels,
                             fig=plt.subplots(3, 2, figsize=(16, 12)))
fig.tight_layout()


fig, axes = dyplot.cornerplot(dres,show_titles=True, 
                              title_kwargs={'y': 1.04}, labels=labels,
                              fig=plt.subplots(3, 3, figsize=(15, 15)))


n = 10
res = dres["samples"][-n:]
xfit = 10**(-0.4*np.linspace(-30, 5, 1000))

# plot the N vs. Luminosity
fig, ax = plt.subplots()
ax.errorbar(-2.5*np.log10(x), y, xerr=sd, capsize=5, color='r', linestyle="none", marker="o")

for vals in res:
    print(vals)
    
    model = schechter(xfit, *vals)
    ax.plot(-2.5*np.log10(xfit), np.log10(model), color='k', alpha=0.25)

# some other labels
fig.gca().invert_xaxis()

ax.set_ylabel("log(N)")
ax.set_xlabel("Absolute V-Band Magnitude")

ax.set_ylim(0, 2)
ax.set_xlim(5, -30)


# Extract sampling results.
samples = dres.samples  # samples
weights = dres.importance_weights()

# Compute 10%-90% quantiles.
quantiles = [dynesty.utils.quantile(samps, [0.1, 0.9], weights=weights)
             for samps in samples.T]

# Compute weighted mean and covariance.
mean, cov = dynesty.utils.mean_and_cov(samples, weights)


for m, q, lab in zip(mean, quantiles, labels):
    print(r"${lab} = {m:.2f}^{{ +{q0:.2f} }}_{{ -{q1:.2f} }}$".format(lab=lab, m=m, q0=q[1]-m, q1=m-q[0]))





lambda_eff = 7980*u.AA # https://www.astronomy.ohio-state.edu/martini.10/usefuldata.html
f0_I = 112.6e-11 * u.erg * u.cm**-2 * u.s**-1 * u.AA**-1 # https://www.astronomy.ohio-state.edu/martini.10/usefuldata.html # 

def convert_sigma(sigma_mag, lambda_eff=lambda_eff, f0=f0_I):
    sigma = f0_I * 10**(-0.4*sigma_mag) * u.arcsec**-2
    val_cgs = sigma * 4*np.pi * lambda_eff * (1*u.pc**2).to(u.cm**2) / u.pc**2
    return val_cgs / c.L_sun.cgs * u.arcsec**2
    
convert_sigma(15)





r_e = 269.3
mu_e = 23.37
n = 6

def sersic_linear_space(r, n=n, r_e=r_e, mu_e=mu_e):
    """Returns I"""
    b_n = 2*n - 1/3
    f = np.exp( -b_n * ((r/r_e)**(1/n) - 1) )
    print(b_n, f, ((r/r_e)**(1/n) - 1))
    return mu_e * f 

def sersic(r, n=n, r_e=r_e, mu_e=mu_e):
    """Taken from http://burro.case.edu/Academics/Astr323/Lectures/GalaxyPopulations.pdf pg. 17"""
    b_n = 2*n - 1/3
    mu = mu_e + 2.5*b_n/np.log(10) * ((r/r_e)**(1/n) - 1)
    return mu


r = np.logspace(-2, 4) # arcsec
mu = sersic(r)

fig, ax = plt.subplots()
ax.plot(r, mu, 'k-', label=f"Sersic (n={n})")

ax.set_xscale("log")
ax.set_ylabel(r"$\mu$")
ax.set_xlabel(r'log r (")')

ax.plot([r_e], [mu_e], 'rX', markersize=10, label="Half-light")

ax.legend()

fig.gca().invert_yaxis(); # because magnitudes


I = (10**(-0.4*21.9))
dI = 0.005*I
dmu_plus = -2.5*np.log10(I + dI)
dmu_minus = -2.5*np.log10(I-dI)

dmu_plus, dmu_minus


from scipy import integrate as si
    
si.quad(sersic, 0, np.inf)



