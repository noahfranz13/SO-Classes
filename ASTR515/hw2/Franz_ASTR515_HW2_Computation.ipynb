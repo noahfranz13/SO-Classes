{
 "cells": [
  {
   "cell_type": "code",
   "execution_count": 89,
   "id": "d4e0c820-7a5e-4e14-8786-11ab2ca045e6",
   "metadata": {},
   "outputs": [],
   "source": [
    "import pandas as pd\n",
    "import numpy as np\n",
    "\n",
    "from astropy import units as u, constants as c\n",
    "\n",
    "from scipy.optimize import fsolve\n",
    "\n",
    "from matplotlib import pyplot as plt"
   ]
  },
  {
   "cell_type": "markdown",
   "id": "d53fc658-dc54-445e-99e9-425a16c4e0d7",
   "metadata": {},
   "source": [
    "# Ryden + Pogge Problem 3.2"
   ]
  },
  {
   "cell_type": "code",
   "execution_count": 68,
   "id": "874784a8-386a-409b-9fb4-127b33051d1f",
   "metadata": {},
   "outputs": [
    {
     "data": {
      "text/plain": [
       "(array([0.33670034]), array([0.66329966]))"
      ]
     },
     "execution_count": 68,
     "metadata": {},
     "output_type": "execute_result"
    }
   ],
   "source": [
    "# part b\n",
    "\n",
    "def f(W):\n",
    "    return (1/150) - (1-W)/100 - W/1e4\n",
    "\n",
    "res = fsolve(f, 0.5)\n",
    "res, 1-res"
   ]
  },
  {
   "cell_type": "markdown",
   "id": "95088fe3-b1de-4d0b-97a5-035616933d3b",
   "metadata": {},
   "source": [
    "# Ryden + Pogge Problem 4.2"
   ]
  },
  {
   "cell_type": "code",
   "execution_count": 85,
   "id": "98258aef-fad5-45f4-99d4-db3d090d46a2",
   "metadata": {},
   "outputs": [],
   "source": [
    "O3_Q0 = 10**(49.77) * u.s**-1\n",
    "O3_Q1 = 10**(49.14) * u.s**-1\n",
    "\n",
    "O6_Q0 = 10**(49.32) * u.s**-1\n",
    "O6_Q1 = 10**(48.52) * u.s**-1\n",
    "\n",
    "O9_Q0 = 10**(48.65) * u.s**-1\n",
    "O9_Q1 = 10**(47.06) * u.s**-1"
   ]
  },
  {
   "cell_type": "code",
   "execution_count": 86,
   "id": "c98144a9-8d30-4931-a0c8-b5f4c6221fca",
   "metadata": {},
   "outputs": [
    {
     "name": "stdout",
     "output_type": "stream",
     "text": [
      "O3: 1.2212688337393727 pc\n",
      "O6: 0.8645921224455196 pc\n",
      "O9: 0.5169849981023891 pc\n"
     ]
    }
   ],
   "source": [
    "# part a\n",
    "\n",
    "T = 1e4 * u.K\n",
    "n = 1e3 * u.cm**-3\n",
    "\n",
    "def alpha_B(T):\n",
    "    to_ret = 3.1e-13 * u.cm**3 * u.s**-1 * (T/(8000*u.K))**-0.82\n",
    "    return to_ret\n",
    "\n",
    "def R_s(Q0, T=T, n_H=n):\n",
    "    return 5.5*u.pc * (Q0 / (1e49*u.s**-1))**(1/3) * (alpha_B(T) / (3e-13*u.cm**3*u.s**-1))**(-1/3) * (n_H / (40*u.cm**-3))**(-2/3)\n",
    "\n",
    "print(\"O3:\", R_s(O3_Q0))\n",
    "print(\"O6:\", R_s(O6_Q0))\n",
    "print(\"O9:\", R_s(O9_Q0))"
   ]
  },
  {
   "cell_type": "code",
   "execution_count": 71,
   "id": "165fd47a-d968-4a90-8892-a2844f45281a",
   "metadata": {},
   "outputs": [
    {
     "data": {
      "text/latex": [
       "$256.3943 \\; \\mathrm{pc}$"
      ],
      "text/plain": [
       "<Quantity 256.39430091 pc>"
      ]
     },
     "execution_count": 71,
     "metadata": {},
     "output_type": "execute_result"
    }
   ],
   "source": [
    "# part b\n",
    "\n",
    "R_s(O3_Q0, n_H=0.3*u.cm**-3)"
   ]
  },
  {
   "cell_type": "code",
   "execution_count": 139,
   "id": "7940ea6d-1192-4701-807c-9e9f86219099",
   "metadata": {},
   "outputs": [
    {
     "data": {
      "text/plain": [
       "(<Quantity 0.23442288>, <Quantity 0.15848932>, <Quantity 0.02570396>)"
      ]
     },
     "execution_count": 139,
     "metadata": {},
     "output_type": "execute_result"
    }
   ],
   "source": [
    "# part c\n",
    "\n",
    "O3_Q1/O3_Q0, O6_Q1/O6_Q0, O9_Q1/O9_Q0"
   ]
  },
  {
   "cell_type": "markdown",
   "id": "25664477-943f-48e9-9897-5836d80de157",
   "metadata": {},
   "source": [
    "# Ryden + Pogge Problem 4.3"
   ]
  },
  {
   "cell_type": "code",
   "execution_count": 76,
   "id": "70469dbb-7a4c-4502-803b-a4f7f3e5d39c",
   "metadata": {},
   "outputs": [],
   "source": [
    "from scipy.integrate import quad as integrator\n",
    "\n",
    "def weins(T, hnu, L_typical=320_000*c.L_sun): # https://sites.uni.edu/morgans/astro/course/Notes/section2/spectraltemps.html\n",
    "\n",
    "    hnu = hnu * u.eV\n",
    "    T = T * u.K\n",
    "    \n",
    "    nu = hnu / c.h\n",
    "    e = (hnu / (c.k_B * T)).decompose()\n",
    "    # print(e)\n",
    "    I_nu = 2*c.h*nu**3 / c.c**2 * np.exp(-e)\n",
    "\n",
    "    # assume isotropic\n",
    "    F_nu = np.pi*I_nu\n",
    "\n",
    "    # get a rtpical radius\n",
    "    r = np.sqrt(L_typical / (4*np.pi*c.sigma_sb*T**4))\n",
    "    \n",
    "    # convert to luminosity\n",
    "    L_nu = 4*np.pi * r**2 * F_nu\n",
    "\n",
    "    return L_nu.cgs.value\n",
    "\n",
    "def Q(T, hnu0, hnu1=np.inf):\n",
    "\n",
    "    integrand = lambda hnu : weins(T, hnu) / hnu\n",
    "\n",
    "    return integrator(integrand, hnu0, hnu1)\n",
    "\n",
    "T = 31_500 # K\n",
    "T_ISM = 8_000 # K\n",
    "nC_nH = 2e-4\n",
    "alpha_C = 4.66e-13 * u.cm**3 * u.s**-1\n",
    "\n",
    "hnu0_H = 13.6 #eV\n",
    "hnu1_H = np.inf\n",
    "\n",
    "hnu0_C = 11.18 #eV\n",
    "hnu1_C = 13.6 #eV"
   ]
  },
  {
   "cell_type": "code",
   "execution_count": 77,
   "id": "9789f785-5382-4ed3-aeb9-b09c5a9dc268",
   "metadata": {},
   "outputs": [
    {
     "data": {
      "text/plain": [
       "0.7870164729813142"
      ]
     },
     "execution_count": 77,
     "metadata": {},
     "output_type": "execute_result"
    }
   ],
   "source": [
    "# part (a)\n",
    "QC_QH = Q(T, hnu0_C, hnu1_C)[0]/Q(T, hnu0_H, hnu1_H)[0]\n",
    "QC_QH"
   ]
  },
  {
   "cell_type": "code",
   "execution_count": 79,
   "id": "ebd3bcbe-ed35-471c-ab28-60996cb44129",
   "metadata": {},
   "outputs": [
    {
     "name": "stdout",
     "output_type": "stream",
     "text": [
      "3.1e-13 cm3 / s\n"
     ]
    },
    {
     "data": {
      "text/latex": [
       "$235.66759 \\; \\mathrm{}$"
      ],
      "text/plain": [
       "<Quantity 235.66759481>"
      ]
     },
     "execution_count": 79,
     "metadata": {},
     "output_type": "execute_result"
    }
   ],
   "source": [
    "# part b\n",
    "\n",
    "aB = alpha_B(T_ISM*u.K).cgs\n",
    "print(aB)\n",
    "\n",
    "RC_RH = QC_QH**(1/3) * (nC_nH)**(-2/3) * (aB / alpha_C)**(1/3)\n",
    "RC_RH"
   ]
  },
  {
   "cell_type": "code",
   "execution_count": 80,
   "id": "88fa4512-507a-4cf6-9cdd-33085d6a9e22",
   "metadata": {},
   "outputs": [
    {
     "data": {
      "text/latex": [
       "$10617.734 \\; \\mathrm{pc}$"
      ],
      "text/plain": [
       "<Quantity 10617.73441156 pc>"
      ]
     },
     "execution_count": 80,
     "metadata": {},
     "output_type": "execute_result"
    }
   ],
   "source": [
    "# part c\n",
    "n_H = 1 * u.cm**-3\n",
    "Q0 = 3.55e48*u.s**-1\n",
    "\n",
    "R_H = R_s(Q0, T_ISM*u.K, n_H)\n",
    "R_C = RC_RH * R_H\n",
    "R_C"
   ]
  },
  {
   "cell_type": "code",
   "execution_count": 84,
   "id": "44b4dbc8-7764-4def-8c2c-b1b5b91d1c52",
   "metadata": {},
   "outputs": [
    {
     "name": "stdout",
     "output_type": "stream",
     "text": [
      "63.97002710087932\n"
     ]
    },
    {
     "data": {
      "text/latex": [
       "$2882.0965 \\; \\mathrm{pc}$"
      ],
      "text/plain": [
       "<Quantity 2882.09653351 pc>"
      ]
     },
     "execution_count": 84,
     "metadata": {},
     "output_type": "execute_result"
    }
   ],
   "source": [
    "# part d\n",
    "RC_RH = 0.01**(-1/3) * QC_QH**(1/3) * (nC_nH)**(-1/3) * (aB / alpha_C)**(1/3)\n",
    "print(RC_RH)\n",
    "\n",
    "R_H = R_s(Q0, T_ISM*u.K, n_H)\n",
    "R_C = RC_RH * R_H\n",
    "R_C"
   ]
  },
  {
   "cell_type": "markdown",
   "id": "3d11cbeb-3cd7-4691-85c9-eb94f369eedb",
   "metadata": {},
   "source": [
    "# Ryden + Pogge Problem 4.3"
   ]
  },
  {
   "cell_type": "code",
   "execution_count": 130,
   "id": "9ac4722a-0934-41dc-a87a-a5ba68b5e0eb",
   "metadata": {},
   "outputs": [],
   "source": [
    "def alpha_B(T):\n",
    "    to_ret = 3.1e-13 * u.cm**3 * u.s**-1 * (T/(8000))**-0.82\n",
    "    return to_ret\n",
    "\n",
    "def heating_rate(T_gas, T_star, n_H, **kwargs):\n",
    "    aB = alpha_B(T_gas).cgs.value\n",
    "    return n_H**2 * aB * c.k_B.cgs.value * T_star\n",
    "\n",
    "def cooling_rate(T_gas, T_star, n_H, x=1):\n",
    "\n",
    "    aB = alpha_B(T_gas).value\n",
    "    \n",
    "    # radiative recombination\n",
    "    ell_rr = 0.68 * n_H**2 * aB * c.k_B.cgs.value * T_gas\n",
    "\n",
    "    # free-free cooling\n",
    "    ell_ff = 0.7 * ell_rr * (T_gas / 8000)**0.32\n",
    "\n",
    "    # collisionall excited line emission\n",
    "    ell_CII_H = 5.2e-27 * n_H**2 * (T_gas/100)**0.13 * np.exp(-91.2/T_gas)\n",
    "    ell_CII_e = 3.1e-27 * n_H**2 * (x/1e-3) * (T_gas/100)**-0.5 * np.exp(-91.2/T_gas)\n",
    "    ell_OI_H  = 4.1e-27 * n_H**2 * (T_gas/100)**0.42 * np.exp(-228/T_gas)\n",
    "    ell_Lya_e = 6e-22 * n_H**2 * (x/1e-3) * (T_gas/1e4)**-0.5 * np.exp(-1.18e5/T_gas)\n",
    "\n",
    "    # sum them together \n",
    "    return ell_rr + ell_ff + ell_CII_H + ell_CII_e + ell_OI_H + ell_Lya_e"
   ]
  },
  {
   "cell_type": "code",
   "execution_count": 131,
   "id": "6afc86e7-0ae2-4c48-8b31-1bd87a5a8cce",
   "metadata": {},
   "outputs": [
    {
     "data": {
      "text/plain": [
       "Text(0.5, 0, '$T_{gas}$')"
      ]
     },
     "execution_count": 131,
     "metadata": {},
     "output_type": "execute_result"
    },
    {
     "data": {
      "image/png": "[encoded data removed]",
      "text/plain": [
       "<Figure size 640x480 with 1 Axes>"
      ]
     },
     "metadata": {},
     "output_type": "display_data"
    }
   ],
   "source": [
    "# part (3)\n",
    "\n",
    "def lab(T_gas, T_star, n_H, type):\n",
    "    return rf\"{type}: $T_\\star={T_star}; n_H={n_H}$\"\n",
    "\n",
    "fig, ax = plt.subplots()\n",
    "\n",
    "T_gas = np.logspace(0, 5, 1000)\n",
    "\n",
    "kwargs = dict(x=1)\n",
    "\n",
    "args = (T_gas, 30_000, 100)\n",
    "ax.plot(T_gas, heating_rate(*args, **kwargs), label=lab(*args, \"Heating\"))\n",
    "ax.plot(T_gas, cooling_rate(*args, **kwargs), label=lab(*args, \"Cooling\"))\n",
    "\n",
    "args = (T_gas, 40_000, 100)\n",
    "ax.plot(T_gas, heating_rate(*args, **kwargs), label=lab(*args, \"Heating\"))\n",
    "\n",
    "args = (T_gas, 20_000, 100)\n",
    "ax.plot(T_gas, heating_rate(*args, **kwargs), label=lab(*args, \"Heating\"))\n",
    "\n",
    "args = (T_gas, 30_000, 1_000)\n",
    "ax.plot(T_gas, cooling_rate(*args, **kwargs), label=lab(*args, \"Cooling\"))\n",
    "\n",
    "args = (T_gas, 30_000, 10_000)\n",
    "ax.plot(T_gas, cooling_rate(*args, **kwargs), label=lab(*args, \"Cooling\"))\n",
    "\n",
    "\n",
    "ax.set_yscale(\"log\")\n",
    "ax.set_xscale(\"log\")\n",
    "\n",
    "ax.legend(fontsize=8)\n",
    "\n",
    "ax.set_ylabel(\"Cooling/Heating Rates []\")\n",
    "ax.set_xlabel(r\"$T_{gas}$\")"
   ]
  },
  {
   "cell_type": "code",
   "execution_count": 136,
   "id": "294f274c-10a8-40d7-9c03-3771c1d23e81",
   "metadata": {},
   "outputs": [
    {
     "name": "stdout",
     "output_type": "stream",
     "text": [
      "T_star = 20000, T_eq = 7581.84\n",
      "T_star = 30000, T_eq = 8338.44\n",
      "T_star = 40000, T_eq = 8699.90\n"
     ]
    }
   ],
   "source": [
    "# part (d)\n",
    "\n",
    "for T_star in [20_000, 30_000, 40_000]:\n",
    "    kwargs = dict(\n",
    "        T_star = T_star, \n",
    "        n_H = 100\n",
    "    )\n",
    "    f = lambda T_gas : heating_rate(T_gas, **kwargs) - cooling_rate(T_gas, **kwargs)\n",
    "\n",
    "    res = fsolve(f, 1e4)\n",
    "\n",
    "    print(f\"T_star = {T_star}, T_eq = {res[0]:.2f}\")"
   ]
  },
  {
   "cell_type": "code",
   "execution_count": 137,
   "id": "32c6816d-1a9c-4054-8364-e5cb3aa65030",
   "metadata": {},
   "outputs": [
    {
     "name": "stdout",
     "output_type": "stream",
     "text": [
      "n_H = 100, T_eq = 8338.44\n",
      "n_H = 1000, T_eq = 8338.44\n",
      "n_H = 10000, T_eq = 8338.44\n"
     ]
    }
   ],
   "source": [
    "# part (e)\n",
    "\n",
    "for init_guess, n_H in zip([1e4, 1e2, 1e1], [100, 1_000, 10_000]):\n",
    "    kwargs = dict(\n",
    "        T_star = 30_000, \n",
    "        n_H = n_H\n",
    "    )\n",
    "    f = lambda T_gas : heating_rate(T_gas, **kwargs) - cooling_rate(T_gas, **kwargs)\n",
    "\n",
    "    res = fsolve(f, init_guess)\n",
    "\n",
    "    print(f\"n_H = {n_H}, T_eq = {res[0]:.2f}\")"
   ]
  },
  {
   "cell_type": "code",
   "execution_count": null,
   "id": "c0be0e12-8475-41a9-96db-fb2924a4218a",
   "metadata": {},
   "outputs": [],
   "source": []
  }
 ],
 "metadata": {
  "kernelspec": {
   "display_name": "Python 3 (ipykernel)",
   "language": "python",
   "name": "python3"
  },
  "language_info": {
   "codemirror_mode": {
    "name": "ipython",
    "version": 3
   },
   "file_extension": ".py",
   "mimetype": "text/x-python",
   "name": "python",
   "nbconvert_exporter": "python",
   "pygments_lexer": "ipython3",
   "version": "3.11.7"
  }
 },
 "nbformat": 4,
 "nbformat_minor": 5
}
