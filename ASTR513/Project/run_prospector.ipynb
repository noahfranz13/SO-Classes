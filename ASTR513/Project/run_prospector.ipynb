{
 "cells": [
  {
   "cell_type": "code",
   "execution_count": 1,
   "id": "34583bb6-1aa2-4374-913d-783e55281f07",
   "metadata": {
    "tags": []
   },
   "outputs": [],
   "source": [
    "import os, glob\n",
    "import json\n",
    "import pandas as pd\n",
    "import numpy as np\n",
    "\n",
    "from sedpy.observate import Filter, load_filters\n",
    "#import prospect"
   ]
  },
  {
   "cell_type": "markdown",
   "id": "1fdf0c15-40f6-429c-9099-952ce8bfc3ab",
   "metadata": {},
   "source": [
    "# Read in and Reformat Photometry"
   ]
  },
  {
   "cell_type": "code",
   "execution_count": 30,
   "id": "5c3673b2-d57d-4681-8769-6b8e253dac0d",
   "metadata": {
    "tags": []
   },
   "outputs": [],
   "source": [
    "path = os.path.join(os.getcwd(), 'data', 'tde_catalog_v0.2.json')\n",
    "with open(path, 'r') as f:\n",
    "    j = json.load(f)\n",
    "\n",
    "# get just the observational data for the host galaxies\n",
    "# and fix the filter names for sedpy\n",
    "obsdata = {}\n",
    "filtermap = {'GALEX_FUV': 'galex_FUV',\n",
    "             'GALEX_NUV': 'galex_NUV',\n",
    "             'uvot_U': 'uvot_u',\n",
    "             'uvot_B': 'uvot_b',\n",
    "             'uvot_V': 'uvot_v'}\n",
    "\n",
    "for tdename in j:\n",
    "    out = j[tdename]['host']['observations']\n",
    "    mask = []\n",
    "    for i, filt in enumerate(out['filternames']):\n",
    "        if filt in filtermap:\n",
    "            out['filternames'][i] = filtermap[filt]\n",
    "        if 'wise' in filt:\n",
    "            mask.append(False)\n",
    "        else:\n",
    "            mask.append(True)\n",
    "    out['photmask'] = mask\n",
    "    \n",
    "    obsdata[tdename] = out"
   ]
  },
  {
   "cell_type": "code",
   "execution_count": 31,
   "id": "67448241-df40-447d-9698-e0b552a2ccb9",
   "metadata": {
    "tags": []
   },
   "outputs": [
    {
     "data": {
      "text/plain": [
       "{'maggies': [9.204999177369166e-10,\n",
       "  1.6013266514117124e-09,\n",
       "  3.095704037644609e-08,\n",
       "  1.2320618180563926e-07,\n",
       "  2.2101155291657063e-07,\n",
       "  2.8343075871337945e-07,\n",
       "  3.442112524116668e-07,\n",
       "  2.435760381186772e-08,\n",
       "  7.489698596424188e-08,\n",
       "  1.5703475242774113e-07,\n",
       "  2.3152799957554918e-07,\n",
       "  1.3682429992529486e-07,\n",
       "  1.0423034263532591e-07],\n",
       " 'maggies_unc': [5.780764712529336e-10,\n",
       "  6.742948174239415e-10,\n",
       "  2.0999855050434808e-09,\n",
       "  5.673854351807584e-09,\n",
       "  1.0177958142503205e-08,\n",
       "  1.3052468798188396e-08,\n",
       "  1.5851513972878295e-08,\n",
       "  1.3909192948688868e-09,\n",
       "  4.138960401394744e-09,\n",
       "  9.256598528566458e-09,\n",
       "  1.0662258408667827e-08,\n",
       "  6.300991867346606e-09,\n",
       "  3.6152076563044984e-08],\n",
       " 'mags': [22.589940614929805,\n",
       "  21.988800170458678,\n",
       "  18.773101415969176,\n",
       "  17.27341875281689,\n",
       "  16.638962559715072,\n",
       "  16.368882551641452,\n",
       "  16.157937341264482,\n",
       "  19.033413594538484,\n",
       "  17.813839147521556,\n",
       "  17.01001056455924,\n",
       "  16.588491201400757,\n",
       "  17.159591913223267,\n",
       "  17.45501458644867],\n",
       " 'mags_unc': [0.6818453123833024,\n",
       "  0.4571873548176626,\n",
       "  0.07365143,\n",
       "  0.05,\n",
       "  0.05,\n",
       "  0.05,\n",
       "  0.05,\n",
       "  0.062,\n",
       "  0.06,\n",
       "  0.064,\n",
       "  0.05,\n",
       "  0.05,\n",
       "  0.3765853340712569],\n",
       " 'filternames': ['galex_FUV',\n",
       "  'galex_NUV',\n",
       "  'sdss_u0',\n",
       "  'sdss_g0',\n",
       "  'sdss_r0',\n",
       "  'sdss_i0',\n",
       "  'sdss_z0',\n",
       "  'uvot_u',\n",
       "  'uvot_b',\n",
       "  'uvot_v',\n",
       "  'wise_w1',\n",
       "  'wise_w2',\n",
       "  'wise_w3'],\n",
       " 'photmask': [True,\n",
       "  True,\n",
       "  True,\n",
       "  True,\n",
       "  True,\n",
       "  True,\n",
       "  True,\n",
       "  True,\n",
       "  True,\n",
       "  True,\n",
       "  False,\n",
       "  False,\n",
       "  False]}"
      ]
     },
     "execution_count": 31,
     "metadata": {},
     "output_type": "execute_result"
    }
   ],
   "source": [
    "obsdata['ASASSN-14ae']"
   ]
  },
  {
   "cell_type": "code",
   "execution_count": 32,
   "id": "7020a8fb-27dc-480a-8782-a3a992e9fe56",
   "metadata": {
    "tags": []
   },
   "outputs": [],
   "source": [
    "outdir = os.path.join(os.getcwd(), 'data', 'hostdata')\n",
    "for tdename in obsdata:\n",
    "    outfile = os.path.join(outdir, f'{tdename}.json')\n",
    "    j = json.dumps(obsdata[tdename], indent=4)\n",
    "    with open(outfile, 'w') as f:\n",
    "        f.write(j)"
   ]
  },
  {
   "cell_type": "markdown",
   "id": "e47e6f1a-ff44-4b51-ad99-e28b9cd30a6f",
   "metadata": {},
   "source": [
    "# Some code for prospector"
   ]
  },
  {
   "cell_type": "code",
   "execution_count": 4,
   "id": "d44164fa-04f6-4826-8475-09c708975669",
   "metadata": {
    "tags": []
   },
   "outputs": [],
   "source": [
    "run_params = {'verbose': True,\n",
    "              'debug': False,\n",
    "              'outfile': 'test',\n",
    "              'output_pickles': False,\n",
    "              # Optimization parameters\n",
    "              'do_powell': False,\n",
    "              'ftol': 0.5e-5, 'maxfev': 5000,\n",
    "              'do_levenberg': True,\n",
    "              'nmin': 10,\n",
    "              # emcee fitting parameters\n",
    "              'nwalkers': 128,\n",
    "              'nburn': [16, 32, 64],\n",
    "              'niter': 512,\n",
    "              'interval': 0.25,\n",
    "              'initial_disp': 0.1,\n",
    "              # Obs data parameters\n",
    "              'objid': 0,\n",
    "              'phottable': 'demo_photometry.dat',\n",
    "              'luminosity_distance': 1e-5,  # in Mpc\n",
    "              # Model parameters\n",
    "              'add_neb': False,\n",
    "              'add_duste': False,\n",
    "              # SPS parameters\n",
    "              'zcontinuous': 1,\n",
    "              }"
   ]
  },
  {
   "cell_type": "code",
   "execution_count": 5,
   "id": "2896264d-9ecf-415f-9817-a02f296933e5",
   "metadata": {
    "tags": []
   },
   "outputs": [],
   "source": [
    "def build_model(object_redshift=0.0, fixed_metallicity=None, add_duste=False,\n",
    "                add_neb=False, luminosity_distance=0.0, **extras):\n",
    "    \"\"\"Construct a model.  This method defines a number of parameter\n",
    "    specification dictionaries and uses them to initialize a\n",
    "    `models.sedmodel.SedModel` object.\n",
    "\n",
    "    :param object_redshift:\n",
    "        If given, given the model redshift to this value.\n",
    "\n",
    "    :param add_dust: (optional, default: False)\n",
    "        Switch to add (fixed) parameters relevant for dust emission.\n",
    "\n",
    "    :param add_neb: (optional, default: False)\n",
    "        Switch to add (fixed) parameters relevant for nebular emission, and\n",
    "        turn nebular emission on.\n",
    "\n",
    "    :param luminosity_distance: (optional)\n",
    "        If present, add a `\"lumdist\"` parameter to the model, and set it's\n",
    "        value (in Mpc) to this.  This allows one to decouple redshift from\n",
    "        distance, and fit, e.g., absolute magnitudes (by setting\n",
    "        luminosity_distance to 1e-5 (10pc))\n",
    "    \"\"\"\n",
    "    from prospect.models.templates import TemplateLibrary\n",
    "    from prospect.models import priors, sedmodel\n",
    "\n",
    "    # --- Get a basic delay-tau SFH parameter set. ---\n",
    "    # This has 5 free parameters:\n",
    "    #   \"mass\", \"logzsol\", \"dust2\", \"tage\", \"tau\"\n",
    "    # And two fixed parameters\n",
    "    #   \"zred\"=0.1, \"sfh\"=4\n",
    "    # See the python-FSPS documentation for details about most of these\n",
    "    # parameters.  Also, look at `TemplateLibrary.describe(\"parametric_sfh\")` to\n",
    "    # view the parameters, their initial values, and the priors in detail.\n",
    "    model_params = TemplateLibrary[\"parametric_sfh\"]\n",
    "\n",
    "    # Add lumdist parameter.  If this is not added then the distance is\n",
    "    # controlled by the \"zred\" parameter and a WMAP9 cosmology.\n",
    "    if luminosity_distance > 0:\n",
    "        model_params[\"lumdist\"] = {\"N\": 1, \"isfree\": False,\n",
    "                                   \"init\": luminosity_distance, \"units\":\"Mpc\"}\n",
    "\n",
    "    # Adjust model initial values (only important for optimization or emcee)\n",
    "    model_params[\"dust2\"][\"init\"] = 0.1\n",
    "    model_params[\"logzsol\"][\"init\"] = -0.3\n",
    "    model_params[\"tage\"][\"init\"] = 13.\n",
    "    model_params[\"mass\"][\"init\"] = 1e8\n",
    "\n",
    "    # If we are going to be using emcee, it is useful to provide an\n",
    "    # initial scale for the cloud of walkers (the default is 0.1)\n",
    "    # For dynesty these can be skipped\n",
    "    model_params[\"mass\"][\"init_disp\"] = 1e7\n",
    "    model_params[\"tau\"][\"init_disp\"] = 3.0\n",
    "    model_params[\"tage\"][\"init_disp\"] = 5.0\n",
    "    model_params[\"tage\"][\"disp_floor\"] = 2.0\n",
    "    model_params[\"dust2\"][\"disp_floor\"] = 0.1\n",
    "\n",
    "    # adjust priors\n",
    "    model_params[\"dust2\"][\"prior\"] = priors.TopHat(mini=0.0, maxi=2.0)\n",
    "    model_params[\"tau\"][\"prior\"] = priors.LogUniform(mini=1e-1, maxi=10)\n",
    "    model_params[\"mass\"][\"prior\"] = priors.LogUniform(mini=1e6, maxi=1e10)\n",
    "\n",
    "    # Change the model parameter specifications based on some keyword arguments\n",
    "    if fixed_metallicity is not None:\n",
    "        # make it a fixed parameter\n",
    "        model_params[\"logzsol\"][\"isfree\"] = False\n",
    "        #And use value supplied by fixed_metallicity keyword\n",
    "        model_params[\"logzsol\"]['init'] = fixed_metallicity\n",
    "\n",
    "    if object_redshift != 0.0:\n",
    "        # make sure zred is fixed\n",
    "        model_params[\"zred\"]['isfree'] = False\n",
    "        # And set the value to the object_redshift keyword\n",
    "        model_params[\"zred\"]['init'] = object_redshift\n",
    "\n",
    "    if add_duste:\n",
    "        # Add dust emission (with fixed dust SED parameters)\n",
    "        model_params.update(TemplateLibrary[\"dust_emission\"])\n",
    "\n",
    "    if add_neb:\n",
    "        # Add nebular emission (with fixed parameters)\n",
    "        model_params.update(TemplateLibrary[\"nebular\"])\n",
    "\n",
    "    # Now instantiate the model using this new dictionary of parameter specifications\n",
    "    model = sedmodel.SedModel(model_params)\n",
    "\n",
    "    return model"
   ]
  },
  {
   "cell_type": "code",
   "execution_count": 12,
   "id": "b5102342-30e5-4115-8f4f-d0ee187fc6f9",
   "metadata": {
    "tags": []
   },
   "outputs": [],
   "source": [
    "def build_obs(objid=0, phottable='demo_photometry.dat',\n",
    "              luminosity_distance=None, **kwargs):\n",
    "    \"\"\"Load photometry from an ascii file.  Assumes the following columns:\n",
    "    `objid`, `filterset`, [`mag0`,....,`magN`] where N >= 11.  The User should\n",
    "    modify this function (including adding keyword arguments) to read in their\n",
    "    particular data format and put it in the required dictionary.\n",
    "\n",
    "    :param objid:\n",
    "        The object id for the row of the photomotery file to use.  Integer.\n",
    "        Requires that there be an `objid` column in the ascii file.\n",
    "\n",
    "    :param phottable:\n",
    "        Name (and path) of the ascii file containing the photometry.\n",
    "\n",
    "    :param luminosity_distance: (optional)\n",
    "        The Johnson 2013 data are given as AB absolute magnitudes.  They can be\n",
    "        turned into apparent magnitudes by supplying a luminosity distance.\n",
    "\n",
    "    :returns obs:\n",
    "        Dictionary of observational data.\n",
    "    \"\"\"\n",
    "\n",
    "    from prospect.utils.obsutils import fix_obs\n",
    "    \n",
    "    # Build output dictionary.\n",
    "    obs = {}\n",
    "    # This is a list of sedpy filter objects.    See the\n",
    "    # sedpy.observate.load_filters command for more details on its syntax.\n",
    "    obs['filters'] = load_filters(tde['filternames'])\n",
    "    # This is a list of maggies, converted from mags.  It should have the same\n",
    "    # order as `filters` above.\n",
    "    obs['maggies'] = np.array(tde['maggies'])\n",
    "    # HACK.  You should use real flux uncertainties\n",
    "    obs['maggies_unc'] = np.array(tde['maggies_unc'])\n",
    "    # Here we mask out any NaNs or infs\n",
    "    #obs['phot_mask'] = None\n",
    "    # We have no spectrum.\n",
    "    obs['wavelength'] = None\n",
    "    obs['spectrum'] = None\n",
    "\n",
    "    # Add unessential bonus info.  This will be stored in output\n",
    "    #obs['dmod'] = catalog[ind]['dmod']\n",
    "    obs['objid'] = tdename\n",
    "\n",
    "    # This ensures all required keys are present and adds some extra useful info\n",
    "    obs = fix_obs(obs)\n",
    "\n",
    "    return obs"
   ]
  },
  {
   "cell_type": "code",
   "execution_count": 13,
   "id": "a6fd5d1f-fcb8-4230-81f0-0d5c9b3ec4cd",
   "metadata": {
    "tags": []
   },
   "outputs": [],
   "source": [
    "def build_sps(zcontinuous=1, compute_vega_mags=False, **extras):\n",
    "    from prospect.sources import CSPSpecBasis\n",
    "    sps = CSPSpecBasis(zcontinuous=zcontinuous,\n",
    "                       compute_vega_mags=compute_vega_mags)\n",
    "    return sps\n",
    "\n",
    "def build_noise(**extras):\n",
    "    return None, None\n",
    "\n",
    "def build_all(**kwargs):\n",
    "\n",
    "    return (build_obs(**kwargs), build_model(**kwargs),\n",
    "            build_sps(**kwargs), build_noise(**kwargs))\n"
   ]
  },
  {
   "cell_type": "code",
   "execution_count": 14,
   "id": "3ce8306c-1f25-402d-a47a-695087b05ac6",
   "metadata": {
    "tags": []
   },
   "outputs": [
    {
     "ename": "NameError",
     "evalue": "name 'fsps' is not defined",
     "output_type": "error",
     "traceback": [
      "\u001b[0;31m---------------------------------------------------------------------------\u001b[0m",
      "\u001b[0;31mNameError\u001b[0m                                 Traceback (most recent call last)",
      "Cell \u001b[0;32mIn[14], line 1\u001b[0m\n\u001b[0;32m----> 1\u001b[0m obs, model, sps, noise \u001b[38;5;241m=\u001b[39m build_all()\n",
      "Cell \u001b[0;32mIn[13], line 13\u001b[0m, in \u001b[0;36mbuild_all\u001b[0;34m(**kwargs)\u001b[0m\n\u001b[1;32m     10\u001b[0m \u001b[38;5;28;01mdef\u001b[39;00m \u001b[38;5;21mbuild_all\u001b[39m(\u001b[38;5;241m*\u001b[39m\u001b[38;5;241m*\u001b[39mkwargs):\n\u001b[1;32m     12\u001b[0m     \u001b[38;5;28;01mreturn\u001b[39;00m (build_obs(\u001b[38;5;241m*\u001b[39m\u001b[38;5;241m*\u001b[39mkwargs), build_model(\u001b[38;5;241m*\u001b[39m\u001b[38;5;241m*\u001b[39mkwargs),\n\u001b[0;32m---> 13\u001b[0m             build_sps(\u001b[38;5;241m*\u001b[39m\u001b[38;5;241m*\u001b[39mkwargs), build_noise(\u001b[38;5;241m*\u001b[39m\u001b[38;5;241m*\u001b[39mkwargs))\n",
      "Cell \u001b[0;32mIn[13], line 3\u001b[0m, in \u001b[0;36mbuild_sps\u001b[0;34m(zcontinuous, compute_vega_mags, **extras)\u001b[0m\n\u001b[1;32m      1\u001b[0m \u001b[38;5;28;01mdef\u001b[39;00m \u001b[38;5;21mbuild_sps\u001b[39m(zcontinuous\u001b[38;5;241m=\u001b[39m\u001b[38;5;241m1\u001b[39m, compute_vega_mags\u001b[38;5;241m=\u001b[39m\u001b[38;5;28;01mFalse\u001b[39;00m, \u001b[38;5;241m*\u001b[39m\u001b[38;5;241m*\u001b[39mextras):\n\u001b[1;32m      2\u001b[0m     \u001b[38;5;28;01mfrom\u001b[39;00m \u001b[38;5;21;01mprospect\u001b[39;00m\u001b[38;5;21;01m.\u001b[39;00m\u001b[38;5;21;01msources\u001b[39;00m \u001b[38;5;28;01mimport\u001b[39;00m CSPSpecBasis\n\u001b[0;32m----> 3\u001b[0m     sps \u001b[38;5;241m=\u001b[39m CSPSpecBasis(zcontinuous\u001b[38;5;241m=\u001b[39mzcontinuous,\n\u001b[1;32m      4\u001b[0m                        compute_vega_mags\u001b[38;5;241m=\u001b[39mcompute_vega_mags)\n\u001b[1;32m      5\u001b[0m     \u001b[38;5;28;01mreturn\u001b[39;00m sps\n",
      "File \u001b[0;32m~/.local/lib/anaconda3/lib/python3.11/site-packages/prospect/sources/galaxy_basis.py:35\u001b[0m, in \u001b[0;36mCSPSpecBasis.__init__\u001b[0;34m(self, zcontinuous, reserved_params, vactoair_flag, compute_vega_mags, **kwargs)\u001b[0m\n\u001b[1;32m     31\u001b[0m \u001b[38;5;28;01mdef\u001b[39;00m \u001b[38;5;21m__init__\u001b[39m(\u001b[38;5;28mself\u001b[39m, zcontinuous\u001b[38;5;241m=\u001b[39m\u001b[38;5;241m1\u001b[39m, reserved_params\u001b[38;5;241m=\u001b[39m[\u001b[38;5;124m'\u001b[39m\u001b[38;5;124msigma_smooth\u001b[39m\u001b[38;5;124m'\u001b[39m],\n\u001b[1;32m     32\u001b[0m              vactoair_flag\u001b[38;5;241m=\u001b[39m\u001b[38;5;28;01mFalse\u001b[39;00m, compute_vega_mags\u001b[38;5;241m=\u001b[39m\u001b[38;5;28;01mFalse\u001b[39;00m, \u001b[38;5;241m*\u001b[39m\u001b[38;5;241m*\u001b[39mkwargs):\n\u001b[1;32m     33\u001b[0m \n\u001b[1;32m     34\u001b[0m     \u001b[38;5;66;03m# This is a StellarPopulation object from fsps\u001b[39;00m\n\u001b[0;32m---> 35\u001b[0m     \u001b[38;5;28mself\u001b[39m\u001b[38;5;241m.\u001b[39mssp \u001b[38;5;241m=\u001b[39m fsps\u001b[38;5;241m.\u001b[39mStellarPopulation(compute_vega_mags\u001b[38;5;241m=\u001b[39mcompute_vega_mags,\n\u001b[1;32m     36\u001b[0m                                       zcontinuous\u001b[38;5;241m=\u001b[39mzcontinuous,\n\u001b[1;32m     37\u001b[0m                                       vactoair_flag\u001b[38;5;241m=\u001b[39mvactoair_flag)\n\u001b[1;32m     38\u001b[0m     \u001b[38;5;28mself\u001b[39m\u001b[38;5;241m.\u001b[39mreserved_params \u001b[38;5;241m=\u001b[39m reserved_params\n\u001b[1;32m     39\u001b[0m     \u001b[38;5;28mself\u001b[39m\u001b[38;5;241m.\u001b[39mparams \u001b[38;5;241m=\u001b[39m {}\n",
      "\u001b[0;31mNameError\u001b[0m: name 'fsps' is not defined"
     ]
    }
   ],
   "source": [
    "obs, model, sps, noise = build_all()"
   ]
  },
  {
   "cell_type": "code",
   "execution_count": 15,
   "id": "1f501cb1-7e73-4b9f-a58b-eb6e5e384e8b",
   "metadata": {},
   "outputs": [
    {
     "data": {
      "text/plain": [
       "'~/bin/fsps/'"
      ]
     },
     "execution_count": 15,
     "metadata": {},
     "output_type": "execute_result"
    }
   ],
   "source": [
    "os.getenv('SPS_HOME')"
   ]
  },
  {
   "cell_type": "code",
   "execution_count": null,
   "id": "da41c656-7ee9-4c39-a50b-e7111568e13a",
   "metadata": {},
   "outputs": [],
   "source": []
  }
 ],
 "metadata": {
  "kernelspec": {
   "display_name": "base",
   "language": "python",
   "name": "base"
  },
  "language_info": {
   "codemirror_mode": {
    "name": "ipython",
    "version": 3
   },
   "file_extension": ".py",
   "mimetype": "text/x-python",
   "name": "python",
   "nbconvert_exporter": "python",
   "pygments_lexer": "ipython3",
   "version": "3.11.4"
  }
 },
 "nbformat": 4,
 "nbformat_minor": 5
}
