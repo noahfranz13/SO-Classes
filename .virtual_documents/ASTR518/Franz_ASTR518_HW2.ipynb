


!pip install astroplan


#imports
from dataclasses import dataclass

import numpy as np
import pandas as pd
import matplotlib.pyplot as plt

from astropy import units as u
from astropy import constants as c
from astropy.coordinates import SkyCoord
from astropy.time import Time, TimezoneInfo

import astroplan as planner
from astroplan.plots import plot_airmass 









@dataclass
class Telescope:
    
    name:str
    area:float
    throughput:float
    gain:float
    n_pix:float
    dark_noise:float
    read_noise:float
    q: float # quantum efficiency
    target_fov:float = 1 # assume target is point source that is 1" on sky
    sky_brightness:float = 22 # the sky brightness in mag/arcsec^2
    
    def __post_init__(self, *args, **kwargs):
        
        self.sky_scatter = self.throughput * self.f_V(self.sky_brightness).to(u.ct/u.s/u.arcsec**2) / self.n_pix
    
    def f_V(
            self,
            mag:float,
            lambda_eff:u.Quantity=0.545*u.um, # for V mag
            f0:u.Quantity=363.1e-11*u.erg/(u.cm**2 * u.s * u.AA) # for V mag
        ) -> u.Quantity:
        
        return f0*10**(-0.4*mag) * self.area * lambda_eff**2 / (c.h*c.c) *u.ct/u.arcsec**2
    
    
    def obst(self, mag, SNR_goal=5, **kwargs):
        N_star = self.throughput*self.q*self.f_V(mag, **kwargs).to(u.ct/u.s/u.arcsec**2).value
        
        a = N_star**2
        b = -SNR_goal**2 * (N_star + self.dark_noise*self.n_pix/3600 + self.q*self.sky_scatter.value*self.n_pix*self.target_fov)
        c = -SNR_goal**2 * self.read_noise**2 * self.n_pix

        return np.roots((a,b,c)).max()


n_pix_bok = 4 * (4096**2) * u.pix
A_Bok = np.pi*(2.29*u.m/2)**2
T_bok = 0.8578
g_bok = 2
D_bok = 3 # electrons / pixel / hour
n_pix_bok = (4096**2) #4*(4096**2)
R_bok = 12

Bok = Telescope(
    name="Bok",
    area=A_Bok,
    throughput=T_bok,
    gain=g_bok,
    n_pix=n_pix_bok,
    dark_noise=D_bok,
    read_noise=R_bok,
    q=0.90
)

Bok


A_kuiper = np.pi * (1.54*u.m)**2

T_kuiper = T_bok

g_kuiper = 3.1
D_kuiper = 16.6 # electrons / pixel / hour
n_pix_kuiper = 4096 * 4097
R_kuiper = 5

Kuiper = Telescope(
    name = 'Kuiper 61"',
    area = A_kuiper,
    throughput = T_kuiper,
    gain = g_kuiper,
    n_pix = n_pix_kuiper,
    dark_noise = D_kuiper,
    read_noise = R_kuiper,
    q=0.88
)

Kuiper


# part (f)


f_bok = Bok.f_V(22).to(u.ct/u.s/u.arcsec**2)
f_bok


Bok.sky_scatter


# part (g)

Bok.obst(mag=15)


print(Kuiper.sky_scatter)

Kuiper.obst(mag=15)





obs = planner.Observer.at_site('mtbigelow')
obs_date = Time("2024-10-19 02:00:00", format="iso") + 7*u.hour # we are observing on the night of Oct 18, 2024 - Oct 19, 2024, converted to utc
tz = TimezoneInfo(utc_offset=-7*u.hour)


pvu_coords = SkyCoord("23:31:11.903", "+22:15:32.14", unit=("hour", "deg"))
pvu = planner.FixedTarget(name='AT2024pvu', coord=pvu_coords)

ule_coords = SkyCoord("08:14:27.141", "+09:00:01.47", unit=("hour", "deg"))
ule = planner.FixedTarget(name='AT2024ule', coord=ule_coords)

vpg_coords = SkyCoord("19:47:23.194", "+57:35:28.84", unit=("hour", "deg"))
vpg = planner.FixedTarget(name='AT2024vpg', coord=vpg_coords)

targets = dict(
    AT2024pvu = pvu,
    AT2024ule = ule,
    AT2024vpg = vpg
)


for name, t in targets.items():
    rise_time = obs.target_rise_time(obs_date, t) + 5*u.minute
    set_time = obs.target_set_time(obs_date, t) - 5*u.minute
    
    print(f"{name} is up from {rise_time.iso} - {set_time.iso}")


sunset_tonight = obs.sun_set_time(obs_date, which='nearest')
sunrise_tonight = obs.sun_rise_time(obs_date, which='nearest')

sunset_tonight.iso, sunrise_tonight.iso


for name, t in targets.items():
    rise_time = obs.target_rise_time(obs_date, t) + 5*u.minute
    set_time = obs.target_set_time(obs_date, t) - 5*u.minute
    
    start = np.max([sunset_tonight, rise_time])
    stop = np.min([sunrise_tonight, set_time])
    
    print(f"{name} is available to observe from {start.iso} - {stop.iso}")


for name, t in targets.items():
    plot_airmass(t, obs, obs_date, brightness_shading=True) 

plt.axvline(sunrise_tonight.plot_date, color='r', linestyle=':', label='Sunrise')
plt.axvline(sunset_tonight.plot_date, color='r', linestyle='--', label='Sunset')

plt.legend(loc=1, bbox_to_anchor=(1, 1)) 

plt.show() 


import matplotlib.pyplot as plt 

from astroplan.plots import plot_parallactic 

for name, t in targets.items():
    plot_parallactic(t, obs, obs_date)
    
plt.legend(loc=2) 

plt.show() 






target_mags = dict(
    AT2024pvu = 19,
    AT2024ule = 18.8,
    AT2024vpg = 19
)

target_time = dict(
    AT2024pvu = None,
    AT2024ule = None,
    AT2024vpg = None
)
SNR_wanted = 5

tele = Bok

for name, target_mag in target_mags.items():
    t = tele.obst(target_mag, SNR_goal=SNR_wanted)
    target_time[name] = t
    print(f"{name} must be observed for {t} s for SNR={SNR_wanted}")








fig, ax = plt.subplots()

ax = plot_airmass(
    list(targets.values()), 
    obs, 
    obs_date.to_datetime(timezone=tz), 
    ax=ax, 
    use_local_tz=True, 
    brightness_shading=True
) 

ax.legend(loc=1, bbox_to_anchor=(1, 1)) 

fig.show() 















