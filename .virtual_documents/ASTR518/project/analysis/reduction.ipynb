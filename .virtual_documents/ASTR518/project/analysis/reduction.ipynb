


import os
import glob

from dataclasses import dataclass
from collections.abc import MutableMapping

import numpy as np
import matplotlib.pyplot as plt

import ccdproc as ccdp

from astropy.nddata import CCDData
from astropy.visualization import hist
from astropy.stats import mad_std
from astropy import units as u

from util import *

ccdp_combine_kwargs = dict(
    method="average",
    sigma_clip=True,
    sigma_clip_low_thresh=5,
    sigma_clip_high_thresh=5,
    sigma_clip_func=np.ma.median,
    sigma_clip_dev_func=mad_std
)


# Organize the files into these data structures defined above
files = ReductionFiles(os.path.join(os.environ["HOME"], "instrumentation_project", "my-data"))
files.read_and_organize("AT2024wsd")

dict(files.target_files)





idx = 10
CustomCCDData.read(files.bias_files["none"][idx]).show_image()


bias_data = [CustomCCDData.read(bias_file) for bias_file in files.bias_files["none"]]

combined_bias = ccdp.combine(
    bias_data,
    **ccdp_combine_kwargs
)

combined_bias.show_image()

combined_bias.write(os.path.join(files.datadir, "COMBINED_BIAS.fits"), overwrite=True)





idx = 0
CustomCCDData.read(files.dark_files["none"][idx]).show_image()


# subtract the bias from the dark frames
combined_dark_fifty = single_dark_calib_stack("FIFTY", files, combined_bias)
combined_dark_thirty = single_dark_calib_stack("THIRTY", files, combined_bias)
combined_dark_five = single_dark_calib_stack("FIVE", files, combined_bias)

combined_dark_fifty.show_image()
combined_dark_fifty.write(os.path.join(files.datadir, "COMBINED_DARKS_FIFTY.fits"), overwrite=True)





idx = 0
test_filt = "r"
CustomCCDData.read(files.flat_files[test_filt][idx]).show_image()


dict(files.flat_files)


combined_flats = dict(
    r = single_flat_calib_and_combine(files, "r", combined_dark_five, combined_bias, 5*u.s),
    b = single_flat_calib_and_combine(files, "b", combined_dark_five, combined_bias, 5*u.s),
    v = single_flat_calib_and_combine(files, "v", combined_dark_five, combined_bias, 5*u.s),
    u = single_flat_calib_and_combine(files, "u", combined_dark_thirty, combined_bias, 30*u.s)
)

combined_flats


combined_flats['r'].show_image()





exptime = 50*u.s

combined_obj_images = {}

for filt, filt_files in files.target_files.items():
    calib_data = []
    for f in filt_files:
        
        data = CustomCCDData.read(f)
        
        reduced = ccdp.subtract_bias(
            data,
            combined_bias
        )
        
        reduced = ccdp.subtract_dark(
            reduced, 
            combined_dark_fifty,
            dark_exposure=exptime,
            data_exposure=exptime
        )
        
        reduced = ccdp.flat_correct(
            reduced,
            combined_flats[filt]
        )
        
        calib_data.append(reduced)
        
    combined_obj_images[filt] = ccdp.combine(calib_data, **ccdp_combine_kwargs)
    
combined_obj_images


from matplotlib.colors import Normalize as Normalizer

fig, axs = plt.subplots(2,2)
for ax, (filt, data) in zip(axs.flatten(), combined_obj_images.items()):
    
    data.show_image(
        ax=ax, 
        fig=fig, 
        norm=Normalizer(
            vmin=545, 
            vmax=1300
        )
    )
    ax.set_title(filt)
    ax.set_xlim(650,750)
    ax.set_ylim(650,750)
    
    data.write(os.path.join(os.environ["HOME"], "instrumentation_project", "my-data", f"AT2024wsd_{filt}.REDUCED.FITS"), overwrite=True)



