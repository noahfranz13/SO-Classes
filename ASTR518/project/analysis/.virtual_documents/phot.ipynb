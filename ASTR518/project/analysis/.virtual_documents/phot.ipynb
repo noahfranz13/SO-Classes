import os, glob
from copy import deepcopy

import matplotlib.pyplot as plt
from matplotlib.colors import Normalize as Normalizer
from astropy.visualization.wcsaxes import SphericalCircle
from astropy.visualization import simple_norm

import pandas as pd

from astropy.nddata import CCDData
from astropy.wcs import WCS
from photutils.aperture import SkyCircularAperture, CircularAperture, aperture_photometry
from photutils.segmentation import detect_sources, make_2dgaussian_kernel
from astropy.coordinates import SkyCoord
from astropy import units as u
from astropy.table import vstack
from astropy.visualization.wcsaxes import SphericalCircle
from astropy.stats import sigma_clipped_stats
from astropy.convolution import convolve, interpolate_replace_nans
from astropy.convolution import Tophat2DKernel as Kernel

import ccdproc

from util import *

norm_kwargs = { # these are all from playing around in ds9
    "Harris-B" : dict(vmin=775, vmax=930),
    "Harris-R" : dict(vmin=1175, vmax=1787),
    "Harris-V" : dict(vmin=1140, vmax=1532),
    "Bessell-U" : dict(vmin=186, vmax=252)
}






data_path = os.path.join(os.environ["HOME"], "instrumentation_project", "my-data", "calib")
overwrite = True

if overwrite:
    wcs_data_path = os.path.join(data_path, "*WCS.fits*")
    wcs_data_files = glob.glob(wcs_data_path)
    wcs_data = [CustomCCDData.read(f) for f in wcs_data_files]

    print("Done reading in data, starting to clean the chip gap...")

    fig = plt.figure()
    for ii, d in enumerate(wcs_data):

        print(f'Working on {d.meta["FILTER"]}')
        # smooth over the chip gap because it's annoying
        kernel = Kernel(9)
        wcs_data[ii].data = interpolate_replace_nans(d.data, kernel)

        # plot all the images to make sure the chip gap looks okay
        img = wcs_data[ii]
        wcs = img.wcs
        print(ii)
        ax = fig.add_subplot(2,2,ii+1) 

        ax.imshow(
            img.data,
            origin="lower",
            norm=simple_norm(
                data=img.data,
                stretch="linear",
                **norm_kwargs[img.meta["FILTER"]]
            ),
            cmap="gray"
        )

        wcs_data[ii].write(wcs_data_files[ii].replace(".fits", ".NOCHIPGAP.fits"), overwrite=overwrite)
        
else:
    # we can just read in the ones previously computed, cause this takes a while
    wcs_data_path = os.path.join(data_path, "*WCS.NOCHIPGAP.fits")
    wcs_data_files = glob.glob(wcs_data_path)
    wcs_data = [CustomCCDData.read(f) for f in wcs_data_files]

    fig = plt.figure(figsize=(8,8))
    for ii, d in enumerate(wcs_data):

        # plot all the images to make sure the chip gap looks okay
        img = wcs_data[ii]
        wcs = img.wcs
        print(ii)
        ax = fig.add_subplot(2,2,ii+1) 

        ax.imshow(
            img.data,
            origin="lower",
            norm=simple_norm(
                data=img.data,
                stretch="linear",
                **norm_kwargs[img.meta["FILTER"]]
            ),
            cmap="gray"
        )



pos = SkyCoord(
    "05:26:38.320",
    "-17:54:54.68",
    unit=("hourangle", "deg")
)

aperture = SkyCircularAperture(pos, r=5. * u.arcsec)
apertures = [aperture.to_pixel(d.wcs) for d in wcs_data]

kuiper = Kuiper(apertures[0].r)
res = {v[0].meta["FILTER"]: aperture_photometry(*v) for v in zip(wcs_data, apertures)}

# plot the histograms of the counts/pixel within the aperture
fig, axs = plt.subplots(2,2,sharey=True,figsize=(8,8))
for img, a, ax in zip(wcs_data, apertures, axs.flatten()):

    y, x = np.indices(img.data.shape)
    center_x, center_y = a.positions
    mask = (x - center_x)**2 + (y - center_y)**2 <= a.r**2
    within_aper = img.data[mask].flatten()
    ax.hist(within_aper, bins=30, histtype="step", color='k')
    ax.text(
        0.7, 0.9, img.meta["FILTER"],
        horizontalalignment='center',
        verticalalignment='center',
        transform = ax.transAxes
    )

fig.supxlabel("ADU per Pixel")
fig.supylabel("Number of Pixels")

fig.savefig("aperture-counts-hist.png")

res


fs = 8
ms = 500
fig = plt.figure()

for ii, (img, a) in enumerate(zip(wcs_data, apertures)):

    wcs = img.wcs
    ax = fig.add_subplot(2,2,ii+1,projection=wcs) 
    
    aper = a.to_sky(wcs)
    print(aper.positions)
    
    circ = SphericalCircle(aper.positions, aper.r, edgecolor='red', facecolor='none', transform=ax.get_transform('fk5'))
    ax.add_patch(circ)
    
    ax.imshow(
        img.data,
        origin="lower",
        norm=simple_norm(
            data=img.data,
            stretch="linear",
            **norm_kwargs[img.meta["FILTER"]]
        ),
        cmap="gray"
    )
    
    for coord in ax.coords._coords:
        coord.set_auto_axislabel(False)
        coord.tick_params(labelsize=fs)
    
    # ax.scatter_coord(pos, ms, edgecolor='r', facecolor="none")
    
    ax.set_title(img.meta["FILTER"], fontsize=fs)
    
    dx = dy = 50
    midx = img.data.shape[0]//2
    midy = img.data.shape[0]//2 + 20
    xlim = (midx-dx, midx+dx)
    ylim = (midy-dy, midy+dy)
    
    ax.set_xlim(*xlim)
    ax.set_ylim(*ylim)
    
fig.supylabel("Declination")
fig.supxlabel("Right Ascension")

fig.savefig("target-images.png", transparent=False)


res_to_stack = []
for k, row in res.items():
    row["FILTER"] = k
    row["aperture_sum_e"] = row["aperture_sum"] * kuiper.gain
    row["aperture_sum_photons"] = row["aperture_sum_e"] * kuiper.electron_to_photons
    
    res_to_stack.append(row)
    
data = vstack(res_to_stack).to_pandas()
data





from astropy.stats import SigmaClip
from photutils.background import LocalBackground, SExtractorBackground

all_bckgd = dict(
    FILTER = [],
    bckgd_adu = [],
    bckgd_err_adu = []
)

aperture = SkyCircularAperture(pos, r=5. * u.arcsec)

for img in wcs_data:
    bkg = LocalBackground(
        inner_radius=kuiper.aperture_radius,
        outer_radius=2*kuiper.aperture_radius,
        bkg_estimator=SExtractorBackground(SigmaClip(sigma=3))
    )

    aper = aperture.to_pixel(img.wcs)

    bkg_res = bkg(img.data, *aper.positions)*kuiper.npix
    
    all_bckgd["FILTER"].append(img.header["FILTER"])
    all_bckgd["bckgd_adu"].append(bkg_res)
    all_bckgd["bckgd_err_adu"].append(np.sqrt(bkg_res))

bckgd_df = pd.DataFrame(all_bckgd)
bckgd_df["bckgd_e"] = bckgd_df.bckgd_adu*kuiper.gain
bckgd_df["bckgd_err_e"] = bckgd_df.bckgd_err_adu*kuiper.gain
bckgd_df["bckgd_photons"] = bckgd_df.bckgd_e*kuiper.electron_to_photons
bckgd_df["bckgd_err_photons"] = bckgd_df.bckgd_err_e*kuiper.electron_to_photons

data = pd.merge(data, bckgd_df, on="FILTER")

data





data["signal_e"] = data.aperture_sum_e - data.bckgd_e
data["signal_photons"] = data.aperture_sum_photons - data.bckgd_photons

data





# read in all of the individual darks

combined_bias = CustomCCDData.read(
    os.path.join(os.environ["HOME"], "instrumentation_project", "my-data", "COMBINED_BIAS.fits")
)

darks = glob.glob(os.path.join(os.environ["HOME"], "instrumentation_project", "astr518_2024kuiper_night1", "*DARK*"))
exptime_dict = {}
for f in darks:
    if "ewantest" in f: continue
    if "franz.DARK" in f: continue
    d = CustomCCDData.read(f)
    exptime = d.meta["EXPTIME"]
    if str(exptime) not in exptime_dict:
        exptime_dict[str(exptime)] = [d]
    else:
        exptime_dict[str(exptime)].append(d)

exptimes, dark_noise, dark_noise_err = [], [], []
for exptime, darks in exptime_dict.items():
    exptimes.append(float(exptime))
    bias_subtracted_darks = [
        ccdproc.subtract_bias(d, combined_bias) for d in darks
    ]
    d = ccdproc.combine(bias_subtracted_darks, **ccdp_combine_kwargs).data
    dark_noise.append(np.mean(d))
    dark_noise_err.append(np.std(d))

fig, ax = plt.subplots()

ax.errorbar(exptimes, dark_noise, marker='o', linestyle='none', capsize=5)

p = np.polyfit(exptimes, dark_noise, 1)
x = np.linspace(0, 250)
y = np.polyval(p, x)
ax.plot(x,y,linestyle='--',color='k')

ax.set_ylabel("Dark Current")
ax.set_xlabel("Exposure Time [s]")

fig.savefig("dark_current.png")

dark_rate = (p[0]*u.adu/u.s/u.pixel).to(u.adu/u.hr/u.pixel) * kuiper.gain
print(dark_rate, np.sqrt(dark_rate))

exptime = 50 # seconds
data["dark_noise_adu"] = np.sqrt(p[0]*exptime)
data["dark_noise_e"] = np.sqrt(p[0]*kuiper.gain*exptime)






bias_combined = CustomCCDData.read(
    os.path.join(os.environ["HOME"], "instrumentation_project", "my-data", "COMBINED_BIAS.fits")
)

files = ReductionFiles(os.path.join(os.environ["HOME"], "instrumentation_project", "my-data"))
files.read_and_organize("AT2024wsd")
bias_data = [CustomCCDData.read(bias_file) for bias_file in files.bias_files["none"]]

rn = []
for _ in range(10):
    rng_choice = np.random.choice(len(bias_data))
    read_noise = ccdproc.subtract_bias(bias_combined, bias_data[rng_choice])    
    rn.append(read_noise)
    
read_noise_adu = np.nanstd(rn)

data["read_noise_adu"] = read_noise_adu
data["read_noise_e"] = kuiper.gain * read_noise_adu

data





data.signal_e / data.bckgd_err_e


data["noise"] = np.sqrt(data.signal_e + data.bckgd_e + kuiper.npix*data.read_noise_e**2 + kuiper.npix*data.dark_noise_e)
data["SNR"] = data.signal_e / data.noise

data[["FILTER", "SNR"]]





from astroquery.vizier import Vizier

# this information comes from drawing a circle over most of the image in DS9
center = SkyCoord(
    "5:26:38.2737",
    "-17:55:03.793",
    unit=("hour", "deg")
)

radius = "282 arcsec"

# now use it to query Vizier
vizier = Vizier(columns=["Source", "RA_ICRS", "DE_ICRS", "Bmag", "Rmag", "Vmag", "Umag"])
res = vizier.query_region(center, radius=radius, catalog="I/360/syntphot")[0].to_pandas()
res = res.dropna()

fig = plt.figure(figsize=(12,12))
derived_zero_points = {}
radius = 5*u.arcsec

filt_key_map = {
    "Harris-V" : "Vmag",
    "Harris-R" : "Rmag",
    "Harris-B" : "Bmag",
    "Bessell-U": "Umag"
}

for ii, (img, a) in enumerate(zip(wcs_data, apertures)):

    wcs = img.wcs
    mag_key = filt_key_map[img.meta["FILTER"]]
    
    # compute the conversion factor
    # 1) measure the aperture sum for each of the field stars 
    positions = SkyCoord(res.RA_ICRS, res.DE_ICRS, unit="deg", frame="icrs")
    sky_aperture = SkyCircularAperture(positions, radius)
    pix_aperture = sky_aperture.to_pixel(wcs)
    df = aperture_photometry(img, pix_aperture).to_pandas()

    # 2) subtract out the background using an annulus (same method as before)
    bkg = LocalBackground(
        inner_radius=kuiper.aperture_radius,
        outer_radius=2*kuiper.aperture_radius,
        bkg_estimator=SExtractorBackground(SigmaClip(sigma=3))
    )
    df["bkg_sum"] = [bkg(img.data, *a.positions)*kuiper.npix for a in pix_aperture]
    df["signal_adu"] = df.aperture_sum - df.bkg_sum
    
    # 3) convert things appropriately and calculate the conversion factor
    df["aperture_sum_e"] = df.signal_adu * kuiper.gain
    df["aperture_sum_photons"] = df.aperture_sum_e * kuiper.electron_to_photons
    df[mag_key] = list(res[mag_key])
    derived_zero_points[img.meta["FILTER"]] = list(df.aperture_sum_photons*10**(0.4*df[mag_key]))
    
    # plot all of these objects
    ax = fig.add_subplot(2,2,ii+1,projection=wcs) 
    aper = a.to_sky(wcs)
    
    circ = SphericalCircle(aper.positions, aper.r, edgecolor='red', facecolor='none', transform=ax.get_transform('fk5'))
    ax.add_patch(circ)

    for _,row in res.iterrows():
            subcirc = SphericalCircle(
                SkyCoord(row.RA_ICRS, row.DE_ICRS, unit="deg", frame="icrs"),
                aper.r,
                edgecolor='blue',
                facecolor='none',
                transform=ax.get_transform('fk5')
            )
            ax.add_patch(subcirc)

    ax.imshow(
        img.data,
        origin="lower",
        norm=simple_norm(
            data=img.data,
            stretch="linear",
            **norm_kwargs[img.meta["FILTER"]]
        ),
        cmap="gray"
    )
    
    for coord in ax.coords._coords:
        coord.set_auto_axislabel(False)
        coord.tick_params(labelsize=fs)
        
    ax.set_title(img.meta["FILTER"], fontsize=fs)

    dx = dy = 50
    midx = img.data.shape[0]//2
    midy = img.data.shape[0]//2 + 20
    xlim = (midx-dx, midx+dx)
    ylim = (midy-dy, midy+dy)
    
    ax_inset = ax.inset_axes(
        (0.05,0.05,0.45,0.45),
        projection=wcs,
        xlim=xlim,
        ylim=ylim,
        xticklabels=[],
        yticklabels=[]
    )

    a.plot(ax_inset, color='r')
    
    ax_inset.imshow(
        img.data,
        origin="lower",
        norm=simple_norm(
            data=img.data,
            stretch="linear",
            **norm_kwargs[img.meta["FILTER"]]
        ),
        cmap="gray"
    )
    ax.indicate_inset_zoom(ax_inset, edgecolor="red", lw=1)

    for coord in ax_inset.coords._coords:
        coord.set_auto_axislabel(False)
        coord.set_ticklabel_visible(False)
        #coord.tick_params(labelsize=fs)
    
    ax_inset.set_xlim(*xlim)
    ax_inset.set_ylim(*ylim)

    
fig.supylabel("Declination")
fig.supxlabel("Right Ascension")

fig.savefig("fcal-images.png", transparent=False)
    
data["zero_point"] = [np.median(derived_zero_points[f]) for f in data.FILTER]
data["mag"] = -2.5*np.log10(data.signal_photons / data.zero_point)

data["mag_err"] = np.log(10)/2.5 * data.noise/data.signal_e

data


# save the reduced dataset to a csv
data.to_csv("reduced-photometry.csv")



